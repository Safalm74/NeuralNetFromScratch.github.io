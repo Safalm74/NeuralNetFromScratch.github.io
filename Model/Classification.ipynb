{
 "cells": [
  {
   "cell_type": "markdown",
   "id": "8cb99b80-f2fb-4009-a203-0c8b72678d24",
   "metadata": {},
   "source": [
    "# Neural Network From scratch\n",
    "**Objective:**\n",
    "To build a Neural network using numpy array, applying concepts learned from the course: Calculus for Data Science and Machine Learning by DeepLearining.AI\n"
   ]
  },
  {
   "cell_type": "markdown",
   "id": "57fc4703-11fe-46f5-ad5e-34714c483a59",
   "metadata": {},
   "source": [
    "## Importing Required Libraries\n",
    "1. Pandas:  read data, visualise data\n",
    "2. numpy:  matrix computation, mathematical expressions\n",
    "3. matplotlib: visualise data\n",
    "4. sklearn.model_selection.train_test_split: split data for training and validating"
   ]
  },
  {
   "cell_type": "code",
   "execution_count": 1,
   "id": "004995f6-06fc-4326-90bf-4740748b618c",
   "metadata": {},
   "outputs": [
    {
     "name": "stdout",
     "output_type": "stream",
     "text": [
      "Setup Completed\n"
     ]
    }
   ],
   "source": [
    "import pandas as pd\n",
    "import numpy as np\n",
    "import matplotlib.pyplot as plt\n",
    "from sklearn.model_selection import train_test_split\n",
    "%matplotlib inline\n",
    "print('Setup Completed')"
   ]
  },
  {
   "cell_type": "markdown",
   "id": "24c31d9f-f66f-4d4e-9340-d86554799a40",
   "metadata": {},
   "source": [
    "## Data Collection & Pre-processing\n",
    "1. Reading data using pandas\n",
    "2. Walking through data\n",
    "3. Dropping categorical data and working only on numerical data\n",
    "4. Splitting inputs and output\n",
    "5. separating 500 data for testing"
   ]
  },
  {
   "cell_type": "code",
   "execution_count": 2,
   "id": "645b90de-b12a-4628-90b5-134e06808b0b",
   "metadata": {},
   "outputs": [],
   "source": [
    "Data= pd.read_csv('train.csv')"
   ]
  },
  {
   "cell_type": "code",
   "execution_count": 3,
   "id": "ab890045-d229-40e7-874c-17105d324abd",
   "metadata": {},
   "outputs": [
    {
     "data": {
      "text/html": [
       "<div>\n",
       "<style scoped>\n",
       "    .dataframe tbody tr th:only-of-type {\n",
       "        vertical-align: middle;\n",
       "    }\n",
       "\n",
       "    .dataframe tbody tr th {\n",
       "        vertical-align: top;\n",
       "    }\n",
       "\n",
       "    .dataframe thead th {\n",
       "        text-align: right;\n",
       "    }\n",
       "</style>\n",
       "<table border=\"1\" class=\"dataframe\">\n",
       "  <thead>\n",
       "    <tr style=\"text-align: right;\">\n",
       "      <th></th>\n",
       "      <th>age</th>\n",
       "      <th>workclass</th>\n",
       "      <th>fnlwgt</th>\n",
       "      <th>education</th>\n",
       "      <th>educational-num</th>\n",
       "      <th>marital-status</th>\n",
       "      <th>occupation</th>\n",
       "      <th>relationship</th>\n",
       "      <th>race</th>\n",
       "      <th>gender</th>\n",
       "      <th>capital-gain</th>\n",
       "      <th>capital-loss</th>\n",
       "      <th>hours-per-week</th>\n",
       "      <th>native-country</th>\n",
       "      <th>income_&gt;50K</th>\n",
       "    </tr>\n",
       "  </thead>\n",
       "  <tbody>\n",
       "    <tr>\n",
       "      <th>0</th>\n",
       "      <td>67</td>\n",
       "      <td>Private</td>\n",
       "      <td>366425</td>\n",
       "      <td>Doctorate</td>\n",
       "      <td>16</td>\n",
       "      <td>Divorced</td>\n",
       "      <td>Exec-managerial</td>\n",
       "      <td>Not-in-family</td>\n",
       "      <td>White</td>\n",
       "      <td>Male</td>\n",
       "      <td>99999</td>\n",
       "      <td>0</td>\n",
       "      <td>60</td>\n",
       "      <td>United-States</td>\n",
       "      <td>1</td>\n",
       "    </tr>\n",
       "    <tr>\n",
       "      <th>1</th>\n",
       "      <td>17</td>\n",
       "      <td>Private</td>\n",
       "      <td>244602</td>\n",
       "      <td>12th</td>\n",
       "      <td>8</td>\n",
       "      <td>Never-married</td>\n",
       "      <td>Other-service</td>\n",
       "      <td>Own-child</td>\n",
       "      <td>White</td>\n",
       "      <td>Male</td>\n",
       "      <td>0</td>\n",
       "      <td>0</td>\n",
       "      <td>15</td>\n",
       "      <td>United-States</td>\n",
       "      <td>0</td>\n",
       "    </tr>\n",
       "    <tr>\n",
       "      <th>2</th>\n",
       "      <td>31</td>\n",
       "      <td>Private</td>\n",
       "      <td>174201</td>\n",
       "      <td>Bachelors</td>\n",
       "      <td>13</td>\n",
       "      <td>Married-civ-spouse</td>\n",
       "      <td>Exec-managerial</td>\n",
       "      <td>Husband</td>\n",
       "      <td>White</td>\n",
       "      <td>Male</td>\n",
       "      <td>0</td>\n",
       "      <td>0</td>\n",
       "      <td>40</td>\n",
       "      <td>United-States</td>\n",
       "      <td>1</td>\n",
       "    </tr>\n",
       "    <tr>\n",
       "      <th>3</th>\n",
       "      <td>58</td>\n",
       "      <td>State-gov</td>\n",
       "      <td>110199</td>\n",
       "      <td>7th-8th</td>\n",
       "      <td>4</td>\n",
       "      <td>Married-civ-spouse</td>\n",
       "      <td>Transport-moving</td>\n",
       "      <td>Husband</td>\n",
       "      <td>White</td>\n",
       "      <td>Male</td>\n",
       "      <td>0</td>\n",
       "      <td>0</td>\n",
       "      <td>40</td>\n",
       "      <td>United-States</td>\n",
       "      <td>0</td>\n",
       "    </tr>\n",
       "    <tr>\n",
       "      <th>4</th>\n",
       "      <td>25</td>\n",
       "      <td>State-gov</td>\n",
       "      <td>149248</td>\n",
       "      <td>Some-college</td>\n",
       "      <td>10</td>\n",
       "      <td>Never-married</td>\n",
       "      <td>Other-service</td>\n",
       "      <td>Not-in-family</td>\n",
       "      <td>Black</td>\n",
       "      <td>Male</td>\n",
       "      <td>0</td>\n",
       "      <td>0</td>\n",
       "      <td>40</td>\n",
       "      <td>United-States</td>\n",
       "      <td>0</td>\n",
       "    </tr>\n",
       "  </tbody>\n",
       "</table>\n",
       "</div>"
      ],
      "text/plain": [
       "   age  workclass  fnlwgt     education  educational-num      marital-status  \\\n",
       "0   67    Private  366425     Doctorate               16            Divorced   \n",
       "1   17    Private  244602          12th                8       Never-married   \n",
       "2   31    Private  174201     Bachelors               13  Married-civ-spouse   \n",
       "3   58  State-gov  110199       7th-8th                4  Married-civ-spouse   \n",
       "4   25  State-gov  149248  Some-college               10       Never-married   \n",
       "\n",
       "         occupation   relationship   race gender  capital-gain  capital-loss  \\\n",
       "0   Exec-managerial  Not-in-family  White   Male         99999             0   \n",
       "1     Other-service      Own-child  White   Male             0             0   \n",
       "2   Exec-managerial        Husband  White   Male             0             0   \n",
       "3  Transport-moving        Husband  White   Male             0             0   \n",
       "4     Other-service  Not-in-family  Black   Male             0             0   \n",
       "\n",
       "   hours-per-week native-country  income_>50K  \n",
       "0              60  United-States            1  \n",
       "1              15  United-States            0  \n",
       "2              40  United-States            1  \n",
       "3              40  United-States            0  \n",
       "4              40  United-States            0  "
      ]
     },
     "execution_count": 3,
     "metadata": {},
     "output_type": "execute_result"
    }
   ],
   "source": [
    "Data.head()"
   ]
  },
  {
   "cell_type": "code",
   "execution_count": 4,
   "id": "5c935596-2225-4982-8cba-61249b7ce2b5",
   "metadata": {},
   "outputs": [],
   "source": [
    "Data=Data.drop(['workclass', 'fnlwgt','education','occupation','marital-status','race','relationship','gender','native-country'], axis=1)"
   ]
  },
  {
   "cell_type": "code",
   "execution_count": 5,
   "id": "0c7b5067-1424-49e1-a54f-6cd83ea55841",
   "metadata": {},
   "outputs": [
    {
     "data": {
      "text/html": [
       "<div>\n",
       "<style scoped>\n",
       "    .dataframe tbody tr th:only-of-type {\n",
       "        vertical-align: middle;\n",
       "    }\n",
       "\n",
       "    .dataframe tbody tr th {\n",
       "        vertical-align: top;\n",
       "    }\n",
       "\n",
       "    .dataframe thead th {\n",
       "        text-align: right;\n",
       "    }\n",
       "</style>\n",
       "<table border=\"1\" class=\"dataframe\">\n",
       "  <thead>\n",
       "    <tr style=\"text-align: right;\">\n",
       "      <th></th>\n",
       "      <th>age</th>\n",
       "      <th>educational-num</th>\n",
       "      <th>capital-gain</th>\n",
       "      <th>capital-loss</th>\n",
       "      <th>hours-per-week</th>\n",
       "      <th>income_&gt;50K</th>\n",
       "    </tr>\n",
       "  </thead>\n",
       "  <tbody>\n",
       "    <tr>\n",
       "      <th>0</th>\n",
       "      <td>67</td>\n",
       "      <td>16</td>\n",
       "      <td>99999</td>\n",
       "      <td>0</td>\n",
       "      <td>60</td>\n",
       "      <td>1</td>\n",
       "    </tr>\n",
       "    <tr>\n",
       "      <th>1</th>\n",
       "      <td>17</td>\n",
       "      <td>8</td>\n",
       "      <td>0</td>\n",
       "      <td>0</td>\n",
       "      <td>15</td>\n",
       "      <td>0</td>\n",
       "    </tr>\n",
       "    <tr>\n",
       "      <th>2</th>\n",
       "      <td>31</td>\n",
       "      <td>13</td>\n",
       "      <td>0</td>\n",
       "      <td>0</td>\n",
       "      <td>40</td>\n",
       "      <td>1</td>\n",
       "    </tr>\n",
       "    <tr>\n",
       "      <th>3</th>\n",
       "      <td>58</td>\n",
       "      <td>4</td>\n",
       "      <td>0</td>\n",
       "      <td>0</td>\n",
       "      <td>40</td>\n",
       "      <td>0</td>\n",
       "    </tr>\n",
       "    <tr>\n",
       "      <th>4</th>\n",
       "      <td>25</td>\n",
       "      <td>10</td>\n",
       "      <td>0</td>\n",
       "      <td>0</td>\n",
       "      <td>40</td>\n",
       "      <td>0</td>\n",
       "    </tr>\n",
       "  </tbody>\n",
       "</table>\n",
       "</div>"
      ],
      "text/plain": [
       "   age  educational-num  capital-gain  capital-loss  hours-per-week  \\\n",
       "0   67               16         99999             0              60   \n",
       "1   17                8             0             0              15   \n",
       "2   31               13             0             0              40   \n",
       "3   58                4             0             0              40   \n",
       "4   25               10             0             0              40   \n",
       "\n",
       "   income_>50K  \n",
       "0            1  \n",
       "1            0  \n",
       "2            1  \n",
       "3            0  \n",
       "4            0  "
      ]
     },
     "execution_count": 5,
     "metadata": {},
     "output_type": "execute_result"
    }
   ],
   "source": [
    "Data.head()"
   ]
  },
  {
   "cell_type": "code",
   "execution_count": 6,
   "id": "53309319-d832-4233-8e64-bba17e20b33a",
   "metadata": {},
   "outputs": [
    {
     "data": {
      "text/plain": [
       "Index(['age', 'educational-num', 'capital-gain', 'capital-loss',\n",
       "       'hours-per-week', 'income_>50K'],\n",
       "      dtype='object')"
      ]
     },
     "execution_count": 6,
     "metadata": {},
     "output_type": "execute_result"
    }
   ],
   "source": [
    "Data.columns"
   ]
  },
  {
   "cell_type": "code",
   "execution_count": 7,
   "id": "eebe2bef-9c8b-421d-a4b9-5bb42ce64d39",
   "metadata": {},
   "outputs": [],
   "source": [
    "inputs=np.array(Data.drop(['income_>50K'],axis=1)).astype('float64').T\n",
    "outputs=np.array(Data['income_>50K'])\n",
    "inputs = (inputs - np.mean(inputs, axis=1, keepdims=True)) / np.std(inputs, axis=1, keepdims=True)"
   ]
  },
  {
   "cell_type": "code",
   "execution_count": 8,
   "id": "dab4f0db-b51c-4a05-b4c6-95e9a85915ee",
   "metadata": {},
   "outputs": [
    {
     "data": {
      "text/plain": [
       "age                0\n",
       "educational-num    0\n",
       "capital-gain       0\n",
       "capital-loss       0\n",
       "hours-per-week     0\n",
       "income_>50K        0\n",
       "dtype: int64"
      ]
     },
     "execution_count": 8,
     "metadata": {},
     "output_type": "execute_result"
    }
   ],
   "source": [
    "Data.isnull().sum()"
   ]
  },
  {
   "cell_type": "code",
   "execution_count": 9,
   "id": "886733a1-9a06-4057-b7f7-7badcdfc9ae3",
   "metadata": {},
   "outputs": [
    {
     "data": {
      "text/html": [
       "<div>\n",
       "<style scoped>\n",
       "    .dataframe tbody tr th:only-of-type {\n",
       "        vertical-align: middle;\n",
       "    }\n",
       "\n",
       "    .dataframe tbody tr th {\n",
       "        vertical-align: top;\n",
       "    }\n",
       "\n",
       "    .dataframe thead th {\n",
       "        text-align: right;\n",
       "    }\n",
       "</style>\n",
       "<table border=\"1\" class=\"dataframe\">\n",
       "  <thead>\n",
       "    <tr style=\"text-align: right;\">\n",
       "      <th></th>\n",
       "      <th>age</th>\n",
       "      <th>educational-num</th>\n",
       "      <th>capital-gain</th>\n",
       "      <th>capital-loss</th>\n",
       "      <th>hours-per-week</th>\n",
       "      <th>income_&gt;50K</th>\n",
       "    </tr>\n",
       "  </thead>\n",
       "  <tbody>\n",
       "    <tr>\n",
       "      <th>0</th>\n",
       "      <td>67</td>\n",
       "      <td>16</td>\n",
       "      <td>99999</td>\n",
       "      <td>0</td>\n",
       "      <td>60</td>\n",
       "      <td>1</td>\n",
       "    </tr>\n",
       "    <tr>\n",
       "      <th>1</th>\n",
       "      <td>17</td>\n",
       "      <td>8</td>\n",
       "      <td>0</td>\n",
       "      <td>0</td>\n",
       "      <td>15</td>\n",
       "      <td>0</td>\n",
       "    </tr>\n",
       "    <tr>\n",
       "      <th>2</th>\n",
       "      <td>31</td>\n",
       "      <td>13</td>\n",
       "      <td>0</td>\n",
       "      <td>0</td>\n",
       "      <td>40</td>\n",
       "      <td>1</td>\n",
       "    </tr>\n",
       "    <tr>\n",
       "      <th>3</th>\n",
       "      <td>58</td>\n",
       "      <td>4</td>\n",
       "      <td>0</td>\n",
       "      <td>0</td>\n",
       "      <td>40</td>\n",
       "      <td>0</td>\n",
       "    </tr>\n",
       "    <tr>\n",
       "      <th>4</th>\n",
       "      <td>25</td>\n",
       "      <td>10</td>\n",
       "      <td>0</td>\n",
       "      <td>0</td>\n",
       "      <td>40</td>\n",
       "      <td>0</td>\n",
       "    </tr>\n",
       "  </tbody>\n",
       "</table>\n",
       "</div>"
      ],
      "text/plain": [
       "   age  educational-num  capital-gain  capital-loss  hours-per-week  \\\n",
       "0   67               16         99999             0              60   \n",
       "1   17                8             0             0              15   \n",
       "2   31               13             0             0              40   \n",
       "3   58                4             0             0              40   \n",
       "4   25               10             0             0              40   \n",
       "\n",
       "   income_>50K  \n",
       "0            1  \n",
       "1            0  \n",
       "2            1  \n",
       "3            0  \n",
       "4            0  "
      ]
     },
     "execution_count": 9,
     "metadata": {},
     "output_type": "execute_result"
    }
   ],
   "source": [
    "Data.head()"
   ]
  },
  {
   "cell_type": "code",
   "execution_count": 10,
   "id": "0f238b87-7672-4d41-b2aa-fd72528b9245",
   "metadata": {},
   "outputs": [
    {
     "name": "stdout",
     "output_type": "stream",
     "text": [
      "(5, 43957) (1, 43957)\n"
     ]
    }
   ],
   "source": [
    "outputs=outputs.reshape(1,len(outputs))\n",
    "print(inputs.shape,outputs.shape)"
   ]
  },
  {
   "cell_type": "code",
   "execution_count": 11,
   "id": "77c8a189-f75b-43cd-868f-70311e998229",
   "metadata": {},
   "outputs": [],
   "source": [
    "\n",
    "remaining_columns = 500  \n",
    "\n",
    "# Create the two arrays\n",
    "inputs_test = inputs[:, :remaining_columns]\n",
    "inputs = inputs[:, remaining_columns:]\n",
    "# Create the two arrays\n",
    "outputs_test = outputs[:, :remaining_columns]\n",
    "outputs = outputs[:, remaining_columns:]"
   ]
  },
  {
   "cell_type": "code",
   "execution_count": 12,
   "id": "4f157025-1d2b-495f-91c2-c985f3744459",
   "metadata": {},
   "outputs": [
    {
     "name": "stdout",
     "output_type": "stream",
     "text": [
      "(5, 43457) (1, 43457)\n"
     ]
    }
   ],
   "source": [
    "print(inputs.shape,outputs.shape)"
   ]
  },
  {
   "cell_type": "markdown",
   "id": "df1f3ada-3897-4fdb-8247-0838b88915c0",
   "metadata": {},
   "source": [
    "## Creating Model\n"
   ]
  },
  {
   "cell_type": "markdown",
   "id": "8883a6de-ec9b-4d9f-93a1-442c15c22873",
   "metadata": {},
   "source": [
    "**Layer Size** \n",
    " : hidden layer size can be changed changing value of n_h"
   ]
  },
  {
   "cell_type": "code",
   "execution_count": 13,
   "id": "f1dc3edd-ddfc-4a6f-932e-c4187ab644c4",
   "metadata": {},
   "outputs": [],
   "source": [
    "def layer_sizes(X, Y):\n",
    "    n_x = X.shape[0]\n",
    "    n_h = 2\n",
    "    n_y = Y.shape[0]\n",
    "    return (n_x, n_h, n_y)"
   ]
  },
  {
   "cell_type": "code",
   "execution_count": 14,
   "id": "1e10dcab-e85f-4437-a31a-282aad3788a7",
   "metadata": {},
   "outputs": [
    {
     "name": "stdout",
     "output_type": "stream",
     "text": [
      "The size of the input layer is: n_x = 5\n",
      "The size of the hidden layer is: n_h = 2\n",
      "The size of the output layer is: n_y = 1\n"
     ]
    }
   ],
   "source": [
    "(n_x, n_h, n_y) = layer_sizes(inputs, outputs)\n",
    "print(\"The size of the input layer is: n_x = \" + str(n_x))\n",
    "print(\"The size of the hidden layer is: n_h = \" + str(n_h))\n",
    "print(\"The size of the output layer is: n_y = \" + str(n_y))"
   ]
  },
  {
   "cell_type": "markdown",
   "id": "a5ba3321-4490-4e62-abac-9b85ef708f48",
   "metadata": {},
   "source": [
    "**Initializing Parameters** \n",
    "1. Weights and biases are the parameters\n",
    "2. parameters are taken at random using numpy.random"
   ]
  },
  {
   "cell_type": "code",
   "execution_count": 15,
   "id": "8a56d8eb-6887-4c70-93d3-870b08e65db2",
   "metadata": {},
   "outputs": [],
   "source": [
    "def initialize_parameters(n_x, n_h, n_y):\n",
    "    W1 = np.random.rand(n_h,n_x)*0.01\n",
    "    b1 = np.zeros((n_h,1))*0.01\n",
    "    W2 = np.random.rand(n_y,n_h)*0.01\n",
    "    b2 = np.zeros((n_y,1))*0.01\n",
    "    \n",
    "    assert (W1.shape == (n_h, n_x))\n",
    "    assert (b1.shape == (n_h, 1))\n",
    "    assert (W2.shape == (n_y, n_h))\n",
    "    assert (b2.shape == (n_y, 1))\n",
    "    \n",
    "    parameters = {\"W1\": W1,\n",
    "                  \"b1\": b1,\n",
    "                  \"W2\": W2,\n",
    "                  \"b2\": b2}\n",
    "    \n",
    "    return parameters"
   ]
  },
  {
   "cell_type": "code",
   "execution_count": 16,
   "id": "8350e781-b9a1-44cb-b530-b94c53ade01a",
   "metadata": {},
   "outputs": [
    {
     "name": "stdout",
     "output_type": "stream",
     "text": [
      "W1 = [[1.98507064e-03 6.98828424e-03 4.11255804e-03 3.88172354e-03\n",
      "  5.58902342e-03]\n",
      " [7.12776488e-03 4.03482050e-05 1.87606571e-03 7.50872183e-03\n",
      "  1.92065845e-03]]\n",
      "b1 = [[0.]\n",
      " [0.]]\n",
      "W2 = [[0.00683987 0.00883033]]\n",
      "b2 = [[0.]]\n"
     ]
    }
   ],
   "source": [
    "parameters = initialize_parameters(n_x, n_h, n_y)\n",
    "\n",
    "print(\"W1 = \" + str(parameters[\"W1\"]))\n",
    "print(\"b1 = \" + str(parameters[\"b1\"]))\n",
    "print(\"W2 = \" + str(parameters[\"W2\"]))\n",
    "print(\"b2 = \" + str(parameters[\"b2\"]))"
   ]
  },
  {
   "cell_type": "markdown",
   "id": "91728c25-d127-4940-9e15-abf905b9b772",
   "metadata": {},
   "source": [
    "**Activation Function**\n",
    "1. Sigmoid is used as an activation function\n",
    "2. To get output in the range of 0 to 1\n",
    "3. Has easier derivative"
   ]
  },
  {
   "cell_type": "code",
   "execution_count": 17,
   "id": "89b00c52-7908-4510-90fc-5ae0611b6fcc",
   "metadata": {},
   "outputs": [],
   "source": [
    "sigmoid= lambda z: 1/(1+np.exp(-z))"
   ]
  },
  {
   "cell_type": "markdown",
   "id": "bf49fac0-6dbc-4c0e-bb63-3ebd54022940",
   "metadata": {},
   "source": [
    "**Forward Propagation**\n",
    "1. Input values passes through weights and activation function to give result\n",
    "2. provides probability on basis of parameters and input"
   ]
  },
  {
   "cell_type": "code",
   "execution_count": 18,
   "id": "ec1166ea-a23b-4cbb-9a21-017f1d84ca75",
   "metadata": {},
   "outputs": [],
   "source": [
    "def forward_propagation(X, parameters):\n",
    "    W1 = parameters['W1']\n",
    "    b1 = parameters['b1']\n",
    "    W2 = parameters['W2']\n",
    "    b2 = parameters['b2']\n",
    "    \n",
    "    Z1 = np.matmul(W1,X)+b1\n",
    "    A1 = sigmoid(Z1)\n",
    "    Z2 = np.matmul(W2,A1)+b2\n",
    "    A2 = sigmoid(Z2)\n",
    "    \n",
    "    assert(A2.shape == (n_y, X.shape[1]))\n",
    "\n",
    "    cache = {\"Z1\": Z1,\n",
    "             \"A1\": A1,\n",
    "             \"Z2\": Z2,\n",
    "             \"A2\": A2}\n",
    "    \n",
    "    return A2, cache"
   ]
  },
  {
   "cell_type": "code",
   "execution_count": 19,
   "id": "1269745d-11aa-4a20-b451-1fa872a4a3ed",
   "metadata": {},
   "outputs": [
    {
     "name": "stdout",
     "output_type": "stream",
     "text": [
      "[0.50196364 0.50196332 0.50197978 0.50196361 0.50194725]\n"
     ]
    }
   ],
   "source": [
    "A2, cache = forward_propagation(inputs, parameters)\n",
    "\n",
    "print(A2[0][:5])"
   ]
  },
  {
   "cell_type": "markdown",
   "id": "ddefa9ca-9d8c-4f4c-b920-b096afd9646f",
   "metadata": {},
   "source": [
    "**Loss Function**\n",
    "1. Log Loss is used, commonly used for classification problem\n",
    "2. Computed so that we can reduce loss by equating first derivative of log loss to zero.(Concept of minima)"
   ]
  },
  {
   "cell_type": "code",
   "execution_count": 20,
   "id": "a617f020-f15c-4f2f-96f4-dcdf74e925d4",
   "metadata": {},
   "outputs": [],
   "source": [
    "def compute_cost(A2, Y):\n",
    "    m = Y.shape[1]\n",
    "    logloss = -np.multiply(Y,np.log(A2))-np.multiply(1-Y,np.log(1-A2))\n",
    "    cost = (1/m )*(np.sum(logloss))\n",
    "\n",
    "    assert(isinstance(cost, float))\n",
    "    \n",
    "    return cost"
   ]
  },
  {
   "cell_type": "markdown",
   "id": "1e35d3ee-e035-46e3-9df0-e6ac2f121949",
   "metadata": {},
   "source": [
    "**Backward Propagation & Updating weight**\n",
    "1. Using gradient descent to update weight\n",
    "2. To know by howmuch weights should be updated, backpropagation is helpful"
   ]
  },
  {
   "cell_type": "code",
   "execution_count": 21,
   "id": "b08474d0-9767-4a68-b7ee-a5360dee2f0b",
   "metadata": {},
   "outputs": [
    {
     "name": "stdout",
     "output_type": "stream",
     "text": [
      "dW1 = [[-0.00016879 -0.00024339 -0.00016262 -0.00010577 -0.00016567]\n",
      " [-0.00021792 -0.00031424 -0.00021002 -0.00013655 -0.0002139 ]]\n",
      "db1 = [[0.00044918]\n",
      " [0.0005799 ]]\n",
      "dW2 = [[0.13075297 0.13095926]]\n",
      "db2 = [[0.26268775]]\n"
     ]
    }
   ],
   "source": [
    "def backward_propagation(parameters, cache, X, Y):\n",
    "    m = X.shape[1]\n",
    "    W1 = parameters[\"W1\"]\n",
    "    W2 = parameters[\"W2\"]\n",
    "    \n",
    "    # Retrieve also A1 and A2 from dictionary \"cache\".\n",
    "    A1 = cache[\"A1\"]\n",
    "    A2 = cache[\"A2\"]\n",
    "    \n",
    "    dZ2 = A2 - Y\n",
    "    dW2 = 1/m * np.dot(dZ2, A1.T)\n",
    "    db2 = 1/m * np.sum(dZ2, axis = 1, keepdims = True)\n",
    "    dZ1 = np.dot(W2.T, dZ2) * A1 * (1 - A1)\n",
    "    dW1 = 1/m * np.dot(dZ1, X.T)\n",
    "    db1 = 1/m * np.sum(dZ1, axis = 1, keepdims = True)\n",
    "    \n",
    "    grads = {\"dW1\": dW1,\n",
    "             \"db1\": db1,\n",
    "             \"dW2\": dW2,\n",
    "             \"db2\": db2}\n",
    "    \n",
    "    return grads\n",
    "\n",
    "grads = backward_propagation(parameters, cache, inputs, outputs)\n",
    "\n",
    "print(\"dW1 = \" + str(grads[\"dW1\"]))\n",
    "print(\"db1 = \" + str(grads[\"db1\"]))\n",
    "print(\"dW2 = \" + str(grads[\"dW2\"]))\n",
    "print(\"db2 = \" + str(grads[\"db2\"]))"
   ]
  },
  {
   "cell_type": "code",
   "execution_count": 22,
   "id": "b45882fc-11aa-4446-bf2c-ed68accfb00c",
   "metadata": {},
   "outputs": [],
   "source": [
    "def update_parameters(parameters, grads, learning_rate=1.2):\n",
    "    W1 = parameters['W1']\n",
    "    b1 = parameters['b1']\n",
    "    W2 = parameters['W2']\n",
    "    b2 = parameters['b2']\n",
    "    \n",
    "    dW1 = grads['dW1']\n",
    "    db1 = grads['db1']\n",
    "    dW2 = grads['dW2']\n",
    "    db2 = grads['db2']\n",
    "    \n",
    "    W1 = W1-learning_rate*dW1\n",
    "    b1 = b1-learning_rate*db1\n",
    "    W2 = W2-learning_rate*dW2\n",
    "    b2 = b2-learning_rate*db2\n",
    "    parameters = {\"W1\": W1,\n",
    "                  \"b1\": b1,\n",
    "                  \"W2\": W2,\n",
    "                  \"b2\": b2}\n",
    "    \n",
    "    return parameters"
   ]
  },
  {
   "cell_type": "code",
   "execution_count": 23,
   "id": "4e7eb7ce-564b-4a0c-a67a-83a6b56c6262",
   "metadata": {},
   "outputs": [
    {
     "name": "stdout",
     "output_type": "stream",
     "text": [
      "W1 updated = [[0.00218762 0.00728035 0.00430771 0.00400865 0.00578783]\n",
      " [0.00738927 0.00041743 0.00212809 0.00767258 0.00217734]]\n",
      "b1 updated = [[-0.00053902]\n",
      " [-0.00069588]]\n",
      "W2 updated = [[-0.1500637  -0.14832079]]\n",
      "b2 updated = [[-0.3152253]]\n"
     ]
    }
   ],
   "source": [
    "parameters_updated = update_parameters(parameters, grads)\n",
    "\n",
    "print(\"W1 updated = \" + str(parameters_updated[\"W1\"]))\n",
    "print(\"b1 updated = \" + str(parameters_updated[\"b1\"]))\n",
    "print(\"W2 updated = \" + str(parameters_updated[\"W2\"]))\n",
    "print(\"b2 updated = \" + str(parameters_updated[\"b2\"]))"
   ]
  },
  {
   "cell_type": "markdown",
   "id": "5ff406ef-8812-45ec-a6ea-2c6b2db50a8d",
   "metadata": {},
   "source": [
    "**Combining all**\n",
    "1. training_loss and validation_loss are calculated after each epoch to know behavior of the network\n",
    "2. Dataset is shuffled after each epoch\n"
   ]
  },
  {
   "cell_type": "code",
   "execution_count": 24,
   "id": "22bf4a8b-8ea4-48be-b8bd-71fdfaee629f",
   "metadata": {},
   "outputs": [],
   "source": [
    "def nn_model(X, Y, n_h, epochs=500, batch_size=32,learning_rate=1.2, print_cost=False):\n",
    "    def shuffle_dataset(X, y):\n",
    "        permutation = np.random.permutation(X.shape[1])\n",
    "        return (X[:,permutation], y[:,permutation])\n",
    "    \n",
    "    n_x = layer_sizes(X, Y)[0]\n",
    "    n_y = layer_sizes(X, Y)[2]\n",
    "    parameters = initialize_parameters(n_x, n_h, n_y)\n",
    "    Cost_loss=[]\n",
    "    Validation_loss=[]\n",
    "    \n",
    "    for epoch in range(epochs):\n",
    "        X,Y=shuffle_dataset(X, Y)\n",
    "        X_train, X_val, y_train, y_val = train_test_split(X.T, Y.T, test_size=0.2, random_state=42)\n",
    "        X_train = X_train.T\n",
    "        X_val = X_val.T\n",
    "        y_train = y_train.T\n",
    "        y_val = y_val.T\n",
    "        for batch_start in range(0, len(X_train), batch_size):\n",
    "            batch_end = batch_start + batch_size\n",
    "            X_batch = X_train[batch_start:batch_end]\n",
    "            y_batch = y_train[batch_start:batch_end] \n",
    "            \n",
    "            # Forward propagation. Inputs: \"X, parameters\". Outputs: \"A2, cache\".\n",
    "            A2, cache = forward_propagation(X, parameters)\n",
    "            \n",
    "            # Cost function. Inputs: \"A2, Y\". Outputs: \"cost\".\n",
    "            cost = compute_cost(A2, Y)\n",
    "            \n",
    "            # Backpropagation. Inputs: \"parameters, cache, X, Y\". Outputs: \"grads\".\n",
    "            grads = backward_propagation(parameters, cache, X, Y)\n",
    "            \n",
    "            # Gradient descent parameter update. Inputs: \"parameters, grads, learning_rate\". Outputs: \"parameters\".\n",
    "            parameters = update_parameters(parameters, grads)\n",
    "                # Print the cost every iteration.\n",
    "            #if print_cost:\n",
    "                #Cost_loss.append(cost)\n",
    "                #print (\"Cost after iteration %i: %f\" %(i, cost))\n",
    "    \n",
    "            # Compute training cost at the end of the epoch\n",
    "        train_predictions, _ = forward_propagation(X_train, parameters)\n",
    "        train_cost = compute_cost(train_predictions, y_train)\n",
    "        Cost_loss.append(train_cost)\n",
    "        # Compute validation loss at the end of the epoch\n",
    "        val_predictions, _ = forward_propagation(X_val, parameters)\n",
    "        val_loss = compute_cost(val_predictions, y_val)\n",
    "        Validation_loss.append(val_loss)\n",
    "    return parameters,Cost_loss,Validation_loss"
   ]
  },
  {
   "cell_type": "markdown",
   "id": "a2719986-5291-4929-b273-973c1a083b0b",
   "metadata": {},
   "source": [
    "## Training Model"
   ]
  },
  {
   "cell_type": "code",
   "execution_count": 25,
   "id": "95ca141d-0dcc-4101-bec1-3e140c53b589",
   "metadata": {},
   "outputs": [
    {
     "name": "stdout",
     "output_type": "stream",
     "text": [
      "W1 = [[-0.59978429 -0.55930399 -1.80225937 -0.17061776 -0.90883873]\n",
      " [-0.34980352 -0.69035636 -1.87473092 -0.24142604 -0.04275123]]\n",
      "b1 = [[-0.20427075]\n",
      " [ 0.17222835]]\n",
      "W2 = [[-3.11799138 -3.0873088 ]]\n",
      "b2 = [[1.74616671]]\n"
     ]
    }
   ],
   "source": [
    "parameters,cost_loss,Validation_loss = nn_model(inputs, outputs, n_h=2, epochs=500, batch_size=60, learning_rate=1.2, print_cost=True)\n",
    "print(\"W1 = \" + str(parameters[\"W1\"]))\n",
    "print(\"b1 = \" + str(parameters[\"b1\"]))\n",
    "print(\"W2 = \" + str(parameters[\"W2\"]))\n",
    "print(\"b2 = \" + str(parameters[\"b2\"]))\n",
    "\n",
    "W1 = parameters[\"W1\"]\n",
    "b1 = parameters[\"b1\"]\n",
    "W2 = parameters[\"W2\"]\n",
    "b2 = parameters[\"b2\"]"
   ]
  },
  {
   "cell_type": "markdown",
   "id": "e76233b6-2494-4646-9713-191bc057c860",
   "metadata": {},
   "source": [
    "## Testing and observing model"
   ]
  },
  {
   "cell_type": "code",
   "execution_count": 26,
   "id": "bbd34d58-b385-4086-bc02-b6cc5182d055",
   "metadata": {},
   "outputs": [
    {
     "data": {
      "image/png": "[encoded data removed]",
      "text/plain": [
       "<Figure size 640x480 with 1 Axes>"
      ]
     },
     "metadata": {},
     "output_type": "display_data"
    }
   ],
   "source": [
    "def plot_loss(Cost_loss, Validation_loss):\n",
    "    epochs = len(Cost_loss)\n",
    "    plt.plot(range(1, epochs + 1), Cost_loss, label='Training Loss')\n",
    "    plt.plot(range(1, epochs + 1), Validation_loss, label='Validation Loss')\n",
    "    plt.xlabel('Epochs')\n",
    "    plt.ylabel('Loss')\n",
    "    plt.legend()\n",
    "    plt.title('Training and Validation Loss over Epochs')\n",
    "    plt.show()\n",
    "plot_loss(cost_loss, Validation_loss)\n"
   ]
  },
  {
   "cell_type": "code",
   "execution_count": 27,
   "id": "3bd43fe7-0171-4fc7-a433-cb68f610bdf1",
   "metadata": {},
   "outputs": [],
   "source": [
    "def predict(X, parameters):\n",
    "    A2, cache =  forward_propagation(X, parameters)\n",
    "    predictions = A2>0.5\n",
    "    return predictions"
   ]
  },
  {
   "cell_type": "code",
   "execution_count": 28,
   "id": "c21e14a2-7852-499a-93f5-439da95be84e",
   "metadata": {},
   "outputs": [],
   "source": [
    "inputs=np.array(Data.drop(['income_>50K'],axis=1)).astype('float64').T\n",
    "inputs = (inputs - np.mean(inputs, axis=1, keepdims=True)) / np.std(inputs, axis=1, keepdims=True)\n",
    "\n",
    "X_pred = np.array([list(inputs[0][43457:]),list(inputs[1][43457:]),list(inputs[2][43457:]),list(inputs[3][43457:]),list(inputs[4][43457:])])\n",
    "Y_pred = predict(X_pred, parameters)\n",
    "outputs=np.array(Data['income_>50K'])\n",
    "outputs=outputs.reshape(1,len(outputs))"
   ]
  },
  {
   "cell_type": "code",
   "execution_count": 32,
   "id": "0033ce9f-caad-410a-b4d1-02e2c5bcd263",
   "metadata": {},
   "outputs": [],
   "source": [
    "tp=0\n",
    "tn=0\n",
    "fp=0\n",
    "fn=0\n",
    "actual=list(outputs[0][43457:]==1)\n",
    "pred=Y_pred[0]\n",
    "for i in range(len(actual)):\n",
    "    if actual[i]:\n",
    "        if pred[i]:\n",
    "            tp=tp+1\n",
    "        else:\n",
    "            fp=fp+1\n",
    "    else:\n",
    "        if pred[i]:\n",
    "            fn=fn+1\n",
    "        else:\n",
    "            tn=tn+1\n",
    "            \n"
   ]
  },
  {
   "cell_type": "code",
   "execution_count": 33,
   "id": "51d48396-9629-446a-aa7b-576626d1c28a",
   "metadata": {},
   "outputs": [
    {
     "data": {
      "text/plain": [
       "47"
      ]
     },
     "execution_count": 33,
     "metadata": {},
     "output_type": "execute_result"
    }
   ],
   "source": [
    "tp"
   ]
  },
  {
   "cell_type": "code",
   "execution_count": 34,
   "id": "a371a72b-a42d-4aa7-a8c9-0947e9b4ebc0",
   "metadata": {},
   "outputs": [
    {
     "data": {
      "text/plain": [
       "365"
      ]
     },
     "execution_count": 34,
     "metadata": {},
     "output_type": "execute_result"
    }
   ],
   "source": [
    "tn"
   ]
  },
  {
   "cell_type": "code",
   "execution_count": 35,
   "id": "a4647852-422d-4082-8d67-d26a9243a474",
   "metadata": {},
   "outputs": [
    {
     "data": {
      "text/plain": [
       "62"
      ]
     },
     "execution_count": 35,
     "metadata": {},
     "output_type": "execute_result"
    }
   ],
   "source": [
    "fp"
   ]
  },
  {
   "cell_type": "code",
   "execution_count": 36,
   "id": "58116c85-b83b-4a43-95e2-a423a387b68f",
   "metadata": {},
   "outputs": [
    {
     "data": {
      "text/plain": [
       "26"
      ]
     },
     "execution_count": 36,
     "metadata": {},
     "output_type": "execute_result"
    }
   ],
   "source": [
    "fn"
   ]
  },
  {
   "cell_type": "code",
   "execution_count": 37,
   "id": "8bbd8b26-c454-4ee0-8bf8-9e75e6668d7b",
   "metadata": {},
   "outputs": [
    {
     "name": "stdout",
     "output_type": "stream",
     "text": [
      "Accuracy : 0.824\n"
     ]
    }
   ],
   "source": [
    "accuracy=(tp+tn)/(tp+tn+fp+fn)\n",
    "print('Accuracy :',accuracy)"
   ]
  },
  {
   "cell_type": "code",
   "execution_count": 38,
   "id": "b57c89ec-8e87-4894-94bf-b7a07208738a",
   "metadata": {},
   "outputs": [
    {
     "name": "stdout",
     "output_type": "stream",
     "text": [
      "Precision:  0.43119266055045874\n"
     ]
    }
   ],
   "source": [
    "Precision=tp/(tp+fp)\n",
    "print('Precision: ',Precision)"
   ]
  },
  {
   "cell_type": "code",
   "execution_count": 39,
   "id": "3a69a001-5796-4167-81c3-dfba213d3d4d",
   "metadata": {},
   "outputs": [
    {
     "name": "stdout",
     "output_type": "stream",
     "text": [
      "Recall:  0.6438356164383562\n"
     ]
    }
   ],
   "source": [
    "Recall=tp/(tp+fn)\n",
    "print('Recall: ',Recall)"
   ]
  },
  {
   "cell_type": "code",
   "execution_count": 40,
   "id": "5bf81672-75e0-4b0e-9bd4-fe5a8d0b7d23",
   "metadata": {},
   "outputs": [
    {
     "name": "stdout",
     "output_type": "stream",
     "text": [
      "F1 Score:  0.5164835164835165\n"
     ]
    }
   ],
   "source": [
    "print('F1 Score: ',2*Precision*Recall/(Precision+Recall))"
   ]
  },
  {
   "cell_type": "markdown",
   "id": "75d7cf4f-30af-432e-a97d-c3c3d35d0304",
   "metadata": {},
   "source": [
    "## Saving Model Weights for future use in a JSON file"
   ]
  },
  {
   "cell_type": "code",
   "execution_count": 41,
   "id": "ec436b15-8534-46a6-8e86-34a7652e19ec",
   "metadata": {},
   "outputs": [
    {
     "name": "stdout",
     "output_type": "stream",
     "text": [
      "Dictionary saved to parameters.json\n"
     ]
    }
   ],
   "source": [
    "import json\n",
    "for key, value in parameters.items():\n",
    "    if isinstance(value, np.ndarray):\n",
    "        parameters[key] = value.tolist()\n",
    "file_path = 'parameters.json'\n",
    "with open(file_path, 'w') as json_file:\n",
    "    json.dump(parameters, json_file)\n",
    "\n",
    "print(f'Dictionary saved to {file_path}')\n"
   ]
  },
  {
   "cell_type": "code",
   "execution_count": 42,
   "id": "a9e8cc35-2af6-42b2-a154-9dbe4f1f0f49",
   "metadata": {},
   "outputs": [],
   "source": [
    "inputs = (inputs - np.mean(inputs, axis=1, keepdims=True)) / np.std(inputs, axis=1, keepdims=True)"
   ]
  },
  {
   "cell_type": "code",
   "execution_count": 43,
   "id": "3cc88688-03af-4378-9f44-cf978f3de613",
   "metadata": {},
   "outputs": [
    {
     "data": {
      "text/html": [
       "<div>\n",
       "<style scoped>\n",
       "    .dataframe tbody tr th:only-of-type {\n",
       "        vertical-align: middle;\n",
       "    }\n",
       "\n",
       "    .dataframe tbody tr th {\n",
       "        vertical-align: top;\n",
       "    }\n",
       "\n",
       "    .dataframe thead th {\n",
       "        text-align: right;\n",
       "    }\n",
       "</style>\n",
       "<table border=\"1\" class=\"dataframe\">\n",
       "  <thead>\n",
       "    <tr style=\"text-align: right;\">\n",
       "      <th></th>\n",
       "      <th>age</th>\n",
       "      <th>educational-num</th>\n",
       "      <th>capital-gain</th>\n",
       "      <th>capital-loss</th>\n",
       "      <th>hours-per-week</th>\n",
       "      <th>income_&gt;50K</th>\n",
       "    </tr>\n",
       "  </thead>\n",
       "  <tbody>\n",
       "    <tr>\n",
       "      <th>count</th>\n",
       "      <td>43957.000000</td>\n",
       "      <td>43957.000000</td>\n",
       "      <td>43957.000000</td>\n",
       "      <td>43957.000000</td>\n",
       "      <td>43957.000000</td>\n",
       "      <td>43957.000000</td>\n",
       "    </tr>\n",
       "    <tr>\n",
       "      <th>mean</th>\n",
       "      <td>38.617149</td>\n",
       "      <td>10.074118</td>\n",
       "      <td>1093.559797</td>\n",
       "      <td>88.246491</td>\n",
       "      <td>40.407694</td>\n",
       "      <td>0.239279</td>\n",
       "    </tr>\n",
       "    <tr>\n",
       "      <th>std</th>\n",
       "      <td>13.734401</td>\n",
       "      <td>2.575092</td>\n",
       "      <td>7570.536063</td>\n",
       "      <td>404.588410</td>\n",
       "      <td>12.400303</td>\n",
       "      <td>0.426648</td>\n",
       "    </tr>\n",
       "    <tr>\n",
       "      <th>min</th>\n",
       "      <td>17.000000</td>\n",
       "      <td>1.000000</td>\n",
       "      <td>0.000000</td>\n",
       "      <td>0.000000</td>\n",
       "      <td>1.000000</td>\n",
       "      <td>0.000000</td>\n",
       "    </tr>\n",
       "    <tr>\n",
       "      <th>25%</th>\n",
       "      <td>28.000000</td>\n",
       "      <td>9.000000</td>\n",
       "      <td>0.000000</td>\n",
       "      <td>0.000000</td>\n",
       "      <td>40.000000</td>\n",
       "      <td>0.000000</td>\n",
       "    </tr>\n",
       "    <tr>\n",
       "      <th>50%</th>\n",
       "      <td>37.000000</td>\n",
       "      <td>10.000000</td>\n",
       "      <td>0.000000</td>\n",
       "      <td>0.000000</td>\n",
       "      <td>40.000000</td>\n",
       "      <td>0.000000</td>\n",
       "    </tr>\n",
       "    <tr>\n",
       "      <th>75%</th>\n",
       "      <td>48.000000</td>\n",
       "      <td>12.000000</td>\n",
       "      <td>0.000000</td>\n",
       "      <td>0.000000</td>\n",
       "      <td>45.000000</td>\n",
       "      <td>0.000000</td>\n",
       "    </tr>\n",
       "    <tr>\n",
       "      <th>max</th>\n",
       "      <td>90.000000</td>\n",
       "      <td>16.000000</td>\n",
       "      <td>99999.000000</td>\n",
       "      <td>4356.000000</td>\n",
       "      <td>99.000000</td>\n",
       "      <td>1.000000</td>\n",
       "    </tr>\n",
       "  </tbody>\n",
       "</table>\n",
       "</div>"
      ],
      "text/plain": [
       "                age  educational-num  capital-gain  capital-loss  \\\n",
       "count  43957.000000     43957.000000  43957.000000  43957.000000   \n",
       "mean      38.617149        10.074118   1093.559797     88.246491   \n",
       "std       13.734401         2.575092   7570.536063    404.588410   \n",
       "min       17.000000         1.000000      0.000000      0.000000   \n",
       "25%       28.000000         9.000000      0.000000      0.000000   \n",
       "50%       37.000000        10.000000      0.000000      0.000000   \n",
       "75%       48.000000        12.000000      0.000000      0.000000   \n",
       "max       90.000000        16.000000  99999.000000   4356.000000   \n",
       "\n",
       "       hours-per-week   income_>50K  \n",
       "count    43957.000000  43957.000000  \n",
       "mean        40.407694      0.239279  \n",
       "std         12.400303      0.426648  \n",
       "min          1.000000      0.000000  \n",
       "25%         40.000000      0.000000  \n",
       "50%         40.000000      0.000000  \n",
       "75%         45.000000      0.000000  \n",
       "max         99.000000      1.000000  "
      ]
     },
     "execution_count": 43,
     "metadata": {},
     "output_type": "execute_result"
    }
   ],
   "source": [
    "Data.describe()"
   ]
  },
  {
   "cell_type": "code",
   "execution_count": null,
   "id": "b8b44edb-a5c9-4b16-8523-216b1f3bae11",
   "metadata": {},
   "outputs": [],
   "source": []
  }
 ],
 "metadata": {
  "kernelspec": {
   "display_name": "Python 3 (ipykernel)",
   "language": "python",
   "name": "python3"
  },
  "language_info": {
   "codemirror_mode": {
    "name": "ipython",
    "version": 3
   },
   "file_extension": ".py",
   "mimetype": "text/x-python",
   "name": "python",
   "nbconvert_exporter": "python",
   "pygments_lexer": "ipython3",
   "version": "3.11.0"
  }
 },
 "nbformat": 4,
 "nbformat_minor": 5
}
